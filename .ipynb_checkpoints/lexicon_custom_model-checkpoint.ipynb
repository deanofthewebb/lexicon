{
 "cells": [
  {
   "cell_type": "markdown",
   "metadata": {},
   "source": [
    "# Lexicon - Custom Model\n",
    "\n",
    "\n",
    "## Overview\n",
    "\n",
    "For this project, I will build a simple custom language model that is able to learn from any text data provided, and return a transcript with confidence values from input posed in speech utterances. I will use Google's cloud-based services to preprocess the input audio data and transcribe into an initial guess. Then I will train a model to improve on Google cloud speech API's response.\n",
    "\n",
    "\n",
    "\n",
    "## Getting Started\n",
    "\n",
    "In order to use Google's cloud-based services, you first need to create an account on the [Google Cloud Platform](https://cloud.google.com//).\n",
    "\n",
    "Then, for each service you want to use, you have to enable use of that service."
   ]
  },
  {
   "cell_type": "code",
   "execution_count": 1,
   "metadata": {
    "collapsed": false
   },
   "outputs": [
    {
     "name": "stdout",
     "output_type": "stream",
     "text": [
      "Requirement already up-to-date: google-cloud-speech in /Users/deanmwebb/anaconda/envs/sdc_dev/lib/python3.5/site-packages\n",
      "Requirement already up-to-date: google-gax<0.16dev,>=0.15.14 in /Users/deanmwebb/anaconda/envs/sdc_dev/lib/python3.5/site-packages (from google-cloud-speech)\n",
      "Requirement already up-to-date: googleapis-common-protos[grpc]<2.0dev,>=1.5.2 in /Users/deanmwebb/anaconda/envs/sdc_dev/lib/python3.5/site-packages (from google-cloud-speech)\n",
      "Requirement already up-to-date: google-cloud-core<0.28dev,>=0.27.0 in /Users/deanmwebb/anaconda/envs/sdc_dev/lib/python3.5/site-packages (from google-cloud-speech)\n",
      "Requirement already up-to-date: protobuf<4.0dev,>=3.0.0 in /Users/deanmwebb/anaconda/envs/sdc_dev/lib/python3.5/site-packages (from google-gax<0.16dev,>=0.15.14->google-cloud-speech)\n",
      "Requirement already up-to-date: ply==3.8 in /Users/deanmwebb/anaconda/envs/sdc_dev/lib/python3.5/site-packages (from google-gax<0.16dev,>=0.15.14->google-cloud-speech)\n",
      "Requirement already up-to-date: grpcio<2.0dev,>=1.0.2 in /Users/deanmwebb/anaconda/envs/sdc_dev/lib/python3.5/site-packages (from google-gax<0.16dev,>=0.15.14->google-cloud-speech)\n",
      "Requirement already up-to-date: requests<3.0dev,>=2.13.0 in /Users/deanmwebb/anaconda/envs/sdc_dev/lib/python3.5/site-packages (from google-gax<0.16dev,>=0.15.14->google-cloud-speech)\n",
      "Requirement already up-to-date: google-auth<2.0dev,>=1.0.0 in /Users/deanmwebb/anaconda/envs/sdc_dev/lib/python3.5/site-packages (from google-gax<0.16dev,>=0.15.14->google-cloud-speech)\n",
      "Requirement already up-to-date: future<0.17dev,>=0.16.0 in /Users/deanmwebb/anaconda/envs/sdc_dev/lib/python3.5/site-packages (from google-gax<0.16dev,>=0.15.14->google-cloud-speech)\n",
      "Requirement already up-to-date: dill<0.3dev,>=0.2.5 in /Users/deanmwebb/anaconda/envs/sdc_dev/lib/python3.5/site-packages (from google-gax<0.16dev,>=0.15.14->google-cloud-speech)\n",
      "Requirement already up-to-date: six>=1.10.0 in /Users/deanmwebb/anaconda/envs/sdc_dev/lib/python3.5/site-packages (from google-cloud-core<0.28dev,>=0.27.0->google-cloud-speech)\n",
      "Requirement already up-to-date: setuptools>=34.0.0 in /Users/deanmwebb/anaconda/envs/sdc_dev/lib/python3.5/site-packages (from google-cloud-core<0.28dev,>=0.27.0->google-cloud-speech)\n",
      "Requirement already up-to-date: idna<2.7,>=2.5 in /Users/deanmwebb/anaconda/envs/sdc_dev/lib/python3.5/site-packages (from requests<3.0dev,>=2.13.0->google-gax<0.16dev,>=0.15.14->google-cloud-speech)\n",
      "Requirement already up-to-date: urllib3<1.23,>=1.21.1 in /Users/deanmwebb/anaconda/envs/sdc_dev/lib/python3.5/site-packages (from requests<3.0dev,>=2.13.0->google-gax<0.16dev,>=0.15.14->google-cloud-speech)\n",
      "Requirement already up-to-date: certifi>=2017.4.17 in /Users/deanmwebb/anaconda/envs/sdc_dev/lib/python3.5/site-packages (from requests<3.0dev,>=2.13.0->google-gax<0.16dev,>=0.15.14->google-cloud-speech)\n",
      "Requirement already up-to-date: chardet<3.1.0,>=3.0.2 in /Users/deanmwebb/anaconda/envs/sdc_dev/lib/python3.5/site-packages (from requests<3.0dev,>=2.13.0->google-gax<0.16dev,>=0.15.14->google-cloud-speech)\n",
      "Requirement already up-to-date: pyasn1>=0.1.7 in /Users/deanmwebb/anaconda/envs/sdc_dev/lib/python3.5/site-packages (from google-auth<2.0dev,>=1.0.0->google-gax<0.16dev,>=0.15.14->google-cloud-speech)\n",
      "Requirement already up-to-date: rsa>=3.1.4 in /Users/deanmwebb/anaconda/envs/sdc_dev/lib/python3.5/site-packages (from google-auth<2.0dev,>=1.0.0->google-gax<0.16dev,>=0.15.14->google-cloud-speech)\n",
      "Requirement already up-to-date: cachetools>=2.0.0 in /Users/deanmwebb/anaconda/envs/sdc_dev/lib/python3.5/site-packages (from google-auth<2.0dev,>=1.0.0->google-gax<0.16dev,>=0.15.14->google-cloud-speech)\n",
      "Requirement already up-to-date: pyasn1-modules>=0.0.5 in /Users/deanmwebb/anaconda/envs/sdc_dev/lib/python3.5/site-packages (from google-auth<2.0dev,>=1.0.0->google-gax<0.16dev,>=0.15.14->google-cloud-speech)\n"
     ]
    }
   ],
   "source": [
    "!pip install --upgrade google-cloud-speech"
   ]
  },
  {
   "cell_type": "markdown",
   "metadata": {},
   "source": [
    "### Install the Google Cloud SDK: https://cloud.google.com/sdk/docs/"
   ]
  },
  {
   "cell_type": "code",
   "execution_count": 2,
   "metadata": {
    "collapsed": false
   },
   "outputs": [
    {
     "name": "stdout",
     "output_type": "stream",
     "text": [
      "Welcome to the Google Cloud SDK!\n",
      "\n",
      "To help improve the quality of this product, we collect anonymized usage data\n",
      "and anonymized stacktraces when crashes are encountered; additional information\n",
      "is available at <https://cloud.google.com/sdk/usage-statistics>. You may choose\n",
      "to opt out of this collection now (by choosing 'N' at the below prompt), or at\n",
      "any time in the future by running the following command:\n",
      "\n",
      "    gcloud config set disable_usage_reporting true\n",
      "\n",
      "\n",
      "Your current Cloud SDK version is: 170.0.1\n",
      "The latest available version is: 170.0.1\n",
      "\n",
      "┌─────────────────────────────────────────────────────────────────────────────────────────────────────────────┐\n",
      "│                                                  Components                                                 │\n",
      "├───────────────┬──────────────────────────────────────────────────────┬──────────────────────────┬───────────┤\n",
      "│     Status    │                         Name                         │            ID            │    Size   │\n",
      "├───────────────┼──────────────────────────────────────────────────────┼──────────────────────────┼───────────┤\n",
      "│ Not Installed │ App Engine Go Extensions                             │ app-engine-go            │  97.7 MiB │\n",
      "│ Not Installed │ Cloud Bigtable Command Line Tool                     │ cbt                      │   4.0 MiB │\n",
      "│ Not Installed │ Cloud Bigtable Emulator                              │ bigtable                 │   3.5 MiB │\n",
      "│ Not Installed │ Cloud Datalab Command Line Tool                      │ datalab                  │   < 1 MiB │\n",
      "│ Not Installed │ Cloud Datastore Emulator                             │ cloud-datastore-emulator │  15.4 MiB │\n",
      "│ Not Installed │ Cloud Datastore Emulator (Legacy)                    │ gcd-emulator             │  38.1 MiB │\n",
      "│ Not Installed │ Cloud Pub/Sub Emulator                               │ pubsub-emulator          │  33.2 MiB │\n",
      "│ Not Installed │ Emulator Reverse Proxy                               │ emulator-reverse-proxy   │  14.5 MiB │\n",
      "│ Not Installed │ Google Container Local Builder                       │ container-builder-local  │   3.7 MiB │\n",
      "│ Not Installed │ Google Container Registry's Docker credential helper │ docker-credential-gcr    │   2.2 MiB │\n",
      "│ Not Installed │ gcloud Alpha Commands                                │ alpha                    │   < 1 MiB │\n",
      "│ Not Installed │ gcloud Beta Commands                                 │ beta                     │   < 1 MiB │\n",
      "│ Not Installed │ gcloud app Java Extensions                           │ app-engine-java          │ 128.1 MiB │\n",
      "│ Not Installed │ gcloud app PHP Extensions (Mac OS X)                 │ app-engine-php-darwin    │  21.9 MiB │\n",
      "│ Not Installed │ gcloud app Python Extensions                         │ app-engine-python        │   6.5 MiB │\n",
      "│ Not Installed │ kubectl                                              │ kubectl                  │  15.9 MiB │\n",
      "│ Installed     │ BigQuery Command Line Tool                           │ bq                       │   < 1 MiB │\n",
      "│ Installed     │ Cloud SDK Core Libraries                             │ core                     │   6.7 MiB │\n",
      "│ Installed     │ Cloud Storage Command Line Tool                      │ gsutil                   │   3.0 MiB │\n",
      "└───────────────┴──────────────────────────────────────────────────────┴──────────────────────────┴───────────┘\n",
      "To install or remove components at your current SDK version [170.0.1], run:\n",
      "  $ gcloud components install COMPONENT_ID\n",
      "  $ gcloud components remove COMPONENT_ID\n",
      "\n",
      "To update your SDK installation to the latest version [170.0.1], run:\n",
      "  $ gcloud components update\n",
      "\n",
      "==> Source [/Users/deanmwebb/Google Drive/Development/consulting/lexicon/google-cloud-sdk/completion.bash.inc] in your profile to enable shell command completion for gcloud.\n",
      "==> Source [/Users/deanmwebb/Google Drive/Development/consulting/lexicon/google-cloud-sdk/path.bash.inc] in your profile to add the Google Cloud SDK command line tools to your $PATH.\n",
      "\n",
      "For more information on how to get started, please visit:\n",
      "  https://cloud.google.com/sdk/docs/quickstarts\n",
      "\n",
      "\n"
     ]
    }
   ],
   "source": [
    "!CLOUDSDK_CORE_DISABLE_PROMPTS=1 ./google-cloud-sdk/install.sh"
   ]
  },
  {
   "cell_type": "markdown",
   "metadata": {},
   "source": [
    "## Authenticate with Google Cloud API:"
   ]
  },
  {
   "cell_type": "code",
   "execution_count": 4,
   "metadata": {
    "collapsed": false
   },
   "outputs": [
    {
     "name": "stdout",
     "output_type": "stream",
     "text": [
      "Activated service account credentials for: [lexicon-bot@exemplary-oath-179301.iam.gserviceaccount.com]\r\n"
     ]
    }
   ],
   "source": [
    "!source google-cloud-sdk/completion.bash.inc && \\\n",
    "source google-cloud-sdk/path.bash.inc && \\\n",
    "gcloud auth activate-service-account lexicon-bot@exemplary-oath-179301.iam.gserviceaccount.com --key-file=Lexicon-e94eff39fad7.json"
   ]
  },
  {
   "cell_type": "code",
   "execution_count": 5,
   "metadata": {
    "collapsed": true
   },
   "outputs": [],
   "source": [
    "import os\n",
    "os.environ['GOOGLE_APPLICATION_CREDENTIALS']='/Users/deanmwebb/Google Drive/Development/consulting/lexicon/Lexicon-e94eff39fad7.json'"
   ]
  },
  {
   "cell_type": "markdown",
   "metadata": {
    "collapsed": true
   },
   "source": [
    "### Test out Cloud Spech API"
   ]
  },
  {
   "cell_type": "code",
   "execution_count": 23,
   "metadata": {
    "collapsed": false
   },
   "outputs": [
    {
     "name": "stdout",
     "output_type": "stream",
     "text": [
      "Waiting for operation to complete...\n",
      "Transcript: the boy hears too much of what is talked about here\n",
      "Confidence Score: 0.9152038097381592\n",
      "Word: the, start_time: 0.1, end_time: 0.5, total_time: 0.4\n",
      "Word: boy, start_time: 0.5, end_time: 0.7000000000000001, total_time: 0.20000000000000007\n",
      "Word: hears, start_time: 0.7000000000000001, end_time: 1.1, total_time: 0.4\n",
      "Word: too, start_time: 1.1, end_time: 1.2, total_time: 0.09999999999999987\n",
      "Word: much, start_time: 1.2, end_time: 1.4, total_time: 0.19999999999999996\n",
      "Word: of, start_time: 1.4, end_time: 1.5, total_time: 0.10000000000000009\n",
      "Word: what, start_time: 1.5, end_time: 1.6, total_time: 0.10000000000000009\n",
      "Word: is, start_time: 1.6, end_time: 1.7000000000000002, total_time: 0.10000000000000009\n",
      "Word: talked, start_time: 1.7000000000000002, end_time: 2.0, total_time: 0.2999999999999998\n",
      "Word: about, start_time: 2.0, end_time: 2.1, total_time: 0.10000000000000009\n",
      "Word: here, start_time: 2.1, end_time: 2.5, total_time: 0.3999999999999999\n"
     ]
    }
   ],
   "source": [
    "import io\n",
    "import os\n",
    "\n",
    "# Imports the Google Cloud client library\n",
    "from google.cloud import speech\n",
    "from google.cloud.speech import enums\n",
    "from google.cloud.speech import types\n",
    "\n",
    "# Instantiates a client\n",
    "client = speech.SpeechClient()\n",
    "\n",
    "# The name of the audio file to transcribe\n",
    "dev_file_name = os.path.join(\n",
    "    os.getcwd(),\n",
    "    'RNN-Tutorial-master',\n",
    "    'data',\n",
    "    'raw',\n",
    "    'librivox',\n",
    "    'LibriSpeech',\n",
    "    'dev-clean-wav',\n",
    "    '777-126732-0068.wav')\n",
    "\n",
    "# Loads the audio into memory\n",
    "with io.open(dev_file_name, 'rb') as audio_file:\n",
    "    content = audio_file.read()\n",
    "    audio = types.RecognitionAudio(content=content)\n",
    "\n",
    "config = types.RecognitionConfig(\n",
    "    encoding=enums.RecognitionConfig.AudioEncoding.LINEAR16,\n",
    "    sample_rate_hertz=16000,\n",
    "    language_code='en-US',\n",
    "    enable_word_time_offsets=True)\n",
    "\n",
    "# Detects speech and words in the audio file\n",
    "operation = client.long_running_recognize(config, audio)\n",
    "\n",
    "print('Waiting for operation to complete...')\n",
    "result = operation.result(timeout=90)\n",
    "\n",
    "alternatives = result.results[0].alternatives\n",
    "for alternative in alternatives:\n",
    "    print('Transcript: {}'.format(alternative.transcript))\n",
    "    print('Confidence Score: {}'.format(alternative.confidence))\n",
    "\n",
    "    for word_info in alternative.words:\n",
    "        word = word_info.word\n",
    "        start_time = word_info.start_time\n",
    "        end_time = word_info.end_time\n",
    "        start = start_time.seconds + start_time.nanos * 1e-9\n",
    "        end = end_time.seconds + end_time.nanos * 1e-9\n",
    "        delta = end - start\n",
    "        \n",
    "        print('Word: {}, start_time: {}, end_time: {}, total_time: {}'.format(\n",
    "            word,\n",
    "            start,\n",
    "            end,\n",
    "            delta))"
   ]
  },
  {
   "cell_type": "code",
   "execution_count": null,
   "metadata": {
    "collapsed": true
   },
   "outputs": [],
   "source": []
  }
 ],
 "metadata": {
  "anaconda-cloud": {},
  "kernelspec": {
   "display_name": "Python [conda env:sdc_dev]",
   "language": "python",
   "name": "conda-env-sdc_dev-py"
  },
  "language_info": {
   "codemirror_mode": {
    "name": "ipython",
    "version": 3
   },
   "file_extension": ".py",
   "mimetype": "text/x-python",
   "name": "python",
   "nbconvert_exporter": "python",
   "pygments_lexer": "ipython3",
   "version": "3.5.2"
  }
 },
 "nbformat": 4,
 "nbformat_minor": 0
}
